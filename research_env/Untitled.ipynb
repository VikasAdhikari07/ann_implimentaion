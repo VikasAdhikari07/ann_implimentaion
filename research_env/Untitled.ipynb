{
 "cells": [
  {
   "cell_type": "code",
   "execution_count": 2,
   "id": "f800ead6",
   "metadata": {},
   "outputs": [],
   "source": [
    "import os\n",
    "import matplotlib.pyplot as plt\n",
    "import joblib\n",
    "import numpy as np\n",
    "\n",
    "plt.style.use(\"fivethirtyeight\")"
   ]
  },
  {
   "cell_type": "code",
   "execution_count": 18,
   "id": "6ef8c004",
   "metadata": {},
   "outputs": [],
   "source": [
    "class Perception:\n",
    "    def __init__(self,eta:float=None,epochs:int=None):\n",
    "        self.weights = np.random.randn(3) * 1e-4\n",
    "        self.eta = eta # learning rate\n",
    "        self.epochs = epochs # number of itteration\n",
    "        \n",
    "        \n",
    "    def fit(self,X,y):\n",
    "        self.X = X;\n",
    "        self.y = y;\n",
    "        \n",
    "        X_with_bias = np.c_[self.X,-np.ones((len(self.X),1))]\n",
    "        print(f\"the bias is {X_with_bias}\")"
   ]
  },
  {
   "cell_type": "code",
   "execution_count": 19,
   "id": "f8ae42c8",
   "metadata": {},
   "outputs": [],
   "source": [
    "obj = Perception(0.01,4)"
   ]
  },
  {
   "cell_type": "code",
   "execution_count": 24,
   "id": "af8acdb6",
   "metadata": {},
   "outputs": [
    {
     "name": "stdout",
     "output_type": "stream",
     "text": [
      "the bias is [[ 1.  1.  1. -1.]\n",
      " [ 1.  1.  1. -1.]\n",
      " [ 1.  1.  1. -1.]\n",
      " [ 1.  1.  1. -1.]]\n"
     ]
    }
   ],
   "source": [
    "obj.fit(np.ones((4,3)),np.ones((4,1)))"
   ]
  }
 ],
 "metadata": {
  "kernelspec": {
   "display_name": "Python 3 (ipykernel)",
   "language": "python",
   "name": "python3"
  },
  "language_info": {
   "codemirror_mode": {
    "name": "ipython",
    "version": 3
   },
   "file_extension": ".py",
   "mimetype": "text/x-python",
   "name": "python",
   "nbconvert_exporter": "python",
   "pygments_lexer": "ipython3",
   "version": "3.7.13"
  }
 },
 "nbformat": 4,
 "nbformat_minor": 5
}
